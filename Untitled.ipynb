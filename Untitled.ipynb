{
 "cells": [
  {
   "cell_type": "code",
   "execution_count": 4,
   "metadata": {
    "collapsed": false
   },
   "outputs": [],
   "source": [
    "import folium"
   ]
  },
  {
   "cell_type": "code",
   "execution_count": 5,
   "metadata": {
    "collapsed": false
   },
   "outputs": [
    {
     "name": "stdout",
     "output_type": "stream",
     "text": [
      "0.2.1\n"
     ]
    }
   ],
   "source": [
    "print(folium.__version__)"
   ]
  },
  {
   "cell_type": "code",
   "execution_count": 8,
   "metadata": {
    "collapsed": false
   },
   "outputs": [
    {
     "name": "stdout",
     "output_type": "stream",
     "text": [
      "Help on function choropleth in module folium.folium:\n",
      "\n",
      "choropleth(self, geo_path=None, geo_str=None, data_out='data.json', data=None, columns=None, key_on=None, threshold_scale=None, fill_color='blue', fill_opacity=0.6, line_color='black', line_weight=1, line_opacity=1, legend_name='', topojson=None, reset=False)\n",
      "    Apply a GeoJSON overlay to the map.\n",
      "    \n",
      "    Plot a GeoJSON overlay on the base map. There is no requirement\n",
      "    to bind data (passing just a GeoJSON plots a single-color overlay),\n",
      "    but there is a data binding option to map your columnar data to\n",
      "    different feature objects with a color scale.\n",
      "    \n",
      "    If data is passed as a Pandas dataframe, the \"columns\" and \"key-on\"\n",
      "    keywords must be included, the first to indicate which DataFrame\n",
      "    columns to use, the second to indicate the layer in the GeoJSON\n",
      "    on which to key the data. The 'columns' keyword does not need to be\n",
      "    passed for a Pandas series.\n",
      "    \n",
      "    Colors are generated from color brewer (http://colorbrewer2.org/)\n",
      "    sequential palettes on a D3 threshold scale. The scale defaults to the\n",
      "    following quantiles: [0, 0.5, 0.75, 0.85, 0.9]. A custom scale can be\n",
      "    passed to `threshold_scale` of length <=6, in order to match the\n",
      "    color brewer range.\n",
      "    \n",
      "    TopoJSONs can be passed as \"geo_path\", but the \"topojson\" keyword must\n",
      "    also be passed with the reference to the topojson objects to convert.\n",
      "    See the topojson.feature method in the TopoJSON API reference:\n",
      "    https://github.com/mbostock/topojson/wiki/API-Reference\n",
      "    \n",
      "    \n",
      "    Parameters\n",
      "    ----------\n",
      "    geo_path: string, default None\n",
      "        URL or File path to your GeoJSON data\n",
      "    geo_str: string, default None\n",
      "        String of GeoJSON, alternative to geo_path\n",
      "    data_out: string, default 'data.json'\n",
      "        Path to write Pandas DataFrame/Series to JSON if binding data\n",
      "    data: Pandas DataFrame or Series, default None\n",
      "        Data to bind to the GeoJSON.\n",
      "    columns: dict or tuple, default None\n",
      "        If the data is a Pandas DataFrame, the columns of data to be bound.\n",
      "        Must pass column 1 as the key, and column 2 the values.\n",
      "    key_on: string, default None\n",
      "        Variable in the GeoJSON file to bind the data to. Must always\n",
      "        start with 'feature' and be in JavaScript objection notation.\n",
      "        Ex: 'feature.id' or 'feature.properties.statename'.\n",
      "    threshold_scale: list, default None\n",
      "        Data range for D3 threshold scale. Defaults to the following range\n",
      "        of quantiles: [0, 0.5, 0.75, 0.85, 0.9], rounded to the nearest\n",
      "        order-of-magnitude integer. Ex: 270 rounds to 200, 5600 to 6000.\n",
      "    fill_color: string, default 'blue'\n",
      "        Area fill color. Can pass a hex code, color name, or if you are\n",
      "        binding data, one of the following color brewer palettes:\n",
      "        'BuGn', 'BuPu', 'GnBu', 'OrRd', 'PuBu', 'PuBuGn', 'PuRd', 'RdPu',\n",
      "        'YlGn', 'YlGnBu', 'YlOrBr', and 'YlOrRd'.\n",
      "    fill_opacity: float, default 0.6\n",
      "        Area fill opacity, range 0-1.\n",
      "    line_color: string, default 'black'\n",
      "        GeoJSON geopath line color.\n",
      "    line_weight: int, default 1\n",
      "        GeoJSON geopath line weight.\n",
      "    line_opacity: float, default 1\n",
      "        GeoJSON geopath line opacity, range 0-1.\n",
      "    legend_name: string, default empty string\n",
      "        Title for data legend.\n",
      "    topojson: string, default None\n",
      "        If using a TopoJSON, passing \"objects.yourfeature\" to the topojson\n",
      "        keyword argument will enable conversion to GeoJSON.\n",
      "    reset: boolean, default False\n",
      "        Remove all current geoJSON layers, start with new layer\n",
      "    \n",
      "    Returns\n",
      "    -------\n",
      "    GeoJSON data layer in obj.template_vars\n",
      "    \n",
      "    Examples\n",
      "    --------\n",
      "    >>> m.choropleth(geo_path='us-states.json', line_color='blue',\n",
      "    ...              line_weight=3)\n",
      "    >>> m.choropleth(geo_path='geo.json', data=df,\n",
      "    ...              columns=['Data 1', 'Data 2'],\n",
      "    ...              key_on='feature.properties.myvalue',\n",
      "    ...              fill_color='PuBu',\n",
      "    ...              threshold_scale=[0, 20, 30, 40, 50, 60])\n",
      "    >>> m.choropleth(geo_path='countries.json',\n",
      "    ...              topojson='objects.countries')\n",
      "\n"
     ]
    }
   ],
   "source": [
    "help(folium.Map.choropleth)"
   ]
  },
  {
   "cell_type": "code",
   "execution_count": null,
   "metadata": {
    "collapsed": true
   },
   "outputs": [],
   "source": []
  },
  {
   "cell_type": "code",
   "execution_count": null,
   "metadata": {
    "collapsed": true
   },
   "outputs": [],
   "source": []
  }
 ],
 "metadata": {
  "kernelspec": {
   "display_name": "Python 3",
   "language": "python",
   "name": "python3"
  },
  "language_info": {
   "codemirror_mode": {
    "name": "ipython",
    "version": 3
   },
   "file_extension": ".py",
   "mimetype": "text/x-python",
   "name": "python",
   "nbconvert_exporter": "python",
   "pygments_lexer": "ipython3",
   "version": "3.5.2"
  }
 },
 "nbformat": 4,
 "nbformat_minor": 1
}
